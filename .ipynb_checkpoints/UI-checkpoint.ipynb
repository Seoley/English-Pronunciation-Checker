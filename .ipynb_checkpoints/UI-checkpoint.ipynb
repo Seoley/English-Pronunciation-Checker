{
 "cells": [
  {
   "cell_type": "code",
   "execution_count": 7,
   "metadata": {},
   "outputs": [],
   "source": [
    "import sounddevice as sd \n",
    "import soundfile as sf\n",
    "import tkinter as tk\n",
    "import numpy as np\n",
    "import matplotlib.pyplot as plt\n",
    "from matplotlib.backends.backend_tkagg import FigureCanvasTkAgg\n",
    "from matplotlib.figure import Figure\n",
    "import os, glob\n",
    "import os.path\n",
    "import librosa\n",
    "from math import *\n",
    "import sys\n",
    "from dtw import dtw\n",
    "from numpy.linalg import norm"
   ]
  },
  {
   "cell_type": "code",
   "execution_count": null,
   "metadata": {},
   "outputs": [
    {
     "name": "stdout",
     "output_type": "stream",
     "text": [
      "In dtw function\n",
      "[0.6226668953895569, 0.8163523077964783, 0.6573701500892639, 0.6833181381225586, 0.5678728818893433, 0.5458644032478333, 0.6413932740688324, 0.6482222229242325, 0.9795098900794983, 0.8415072560310364, 1.0107145309448242, 0.9143742322921753, 1.142136812210083, 1.1306138634681702, 1.2508413791656494]\n",
      "DTW algorithm\n"
     ]
    },
    {
     "name": "stderr",
     "output_type": "stream",
     "text": [
      "Exception in Tkinter callback\n",
      "Traceback (most recent call last):\n",
      "  File \"C:\\Users\\UOK\\anaconda3\\envs\\tensor2\\lib\\tkinter\\__init__.py\", line 1705, in __call__\n",
      "    return self.func(*args)\n",
      "  File \"<ipython-input-11-e68bd2e4350d>\", line 37, in dtw_analysis\n",
      "    self.draw_graph(data=loss_data)\n",
      "NameError: name 'loss_data' is not defined\n"
     ]
    }
   ],
   "source": [
    "class Application(tk.Frame):\n",
    "    def __init__(self, master=None):\n",
    "        super().__init__(master)\n",
    "        self.master = master\n",
    "        self.pack()\n",
    "        self.draw_graph()\n",
    "        self.create_widgets()\n",
    "\n",
    "    def create_widgets(self):\n",
    "        self.record_button = tk.Button(self, text=\"녹음 시작\", command=self.Voice_rec)\n",
    "        self.record_button.pack(side=\"top\")\n",
    "        \n",
    "        self.dtw_button = tk.Button(self, text=\"DTW 알고리즘\", command=self.dtw_analysis)\n",
    "        self.dtw_button.pack(side=\"bottom\")\n",
    "        \n",
    "        self.cnn_button = tk.Button(self, text=\"CNN 알고리즘\", command=self.cnn_analysis)\n",
    "        self.cnn_button.pack(side=\"bottom\")\n",
    "        \n",
    "\n",
    "    def Voice_rec(self): \n",
    "        fs = 48000\n",
    "\n",
    "        # seconds \n",
    "        duration = 5\n",
    "        myrecording = sd.rec(int(duration * fs),  \n",
    "                             samplerate=fs, channels=2) \n",
    "        sd.wait() \n",
    "\n",
    "        # Save as FLAC file at correct sampling rate \n",
    "        return sf.write('my_Audio_file.wav', myrecording, fs) \n",
    "    \n",
    "    def dtw_analysis(self):\n",
    "        base_path = \"./data/base/0_jackson_0.wav\"\n",
    "        test_path = \"./data/test/0_nicolas_37.wav\"\n",
    "        loss_list = get_loss_dtw(base_path, test_path)\n",
    "        print(\"DTW algorithm\")\n",
    "        self.draw_graph(data=loss_list)\n",
    "        \n",
    "    def cnn_analysis(self):\n",
    "        print(\"CNN algorithm\")\n",
    "    \n",
    "    def draw_graph(self,data = None):\n",
    "        if data == None:\n",
    "            x=np.arange(1, 10, 1)\n",
    "            y=2*x**2\n",
    "        else:\n",
    "            x = data\n",
    "            y = range(len(data))\n",
    "        \n",
    "        fig = Figure(figsize=(10, 7), dpi=100)  #그리프 그릴 창 생성\n",
    "        fig.add_subplot(1,1,1).plot(x, y)#창에 그래프 하나 추가\n",
    "        canvas = FigureCanvasTkAgg(fig, master=self.master)\n",
    "        canvas.draw()\n",
    "        canvas.get_tk_widget().pack()\n",
    "    \n",
    "root = tk.Tk()\n",
    "root.geometry(\"800x500\")\n",
    "app = Application(master=root)\n",
    "app.mainloop()"
   ]
  },
  {
   "cell_type": "code",
   "execution_count": 10,
   "metadata": {},
   "outputs": [
    {
     "name": "stdout",
     "output_type": "stream",
     "text": [
      "In dtw function\n",
      "[0.6226668953895569, 0.8163523077964783, 0.6573701500892639, 0.6833181381225586, 0.5678728818893433, 0.5458644032478333, 0.6413932740688324, 0.6482222229242325, 0.9795098900794983, 0.8415072560310364, 1.0107145309448242, 0.9143742322921753, 1.142136812210083, 1.1306138634681702, 1.2508413791656494]\n"
     ]
    },
    {
     "data": {
      "text/plain": [
       "[0.6226668953895569,\n",
       " 0.8163523077964783,\n",
       " 0.6573701500892639,\n",
       " 0.6833181381225586,\n",
       " 0.5678728818893433,\n",
       " 0.5458644032478333,\n",
       " 0.6413932740688324,\n",
       " 0.6482222229242325,\n",
       " 0.9795098900794983,\n",
       " 0.8415072560310364,\n",
       " 1.0107145309448242,\n",
       " 0.9143742322921753,\n",
       " 1.142136812210083,\n",
       " 1.1306138634681702,\n",
       " 1.2508413791656494]"
      ]
     },
     "execution_count": 10,
     "metadata": {},
     "output_type": "execute_result"
    }
   ],
   "source": [
    "base_path = \"./data/base/0_jackson_0.wav\"\n",
    "test_path = \"./data/test/0_nicolas_37.wav\"\n",
    "loss_list = get_loss_dtw(base_path, test_path)\n",
    "loss_list"
   ]
  },
  {
   "cell_type": "code",
   "execution_count": 5,
   "metadata": {},
   "outputs": [],
   "source": [
    "def get_loss_dtw(base_path, test_path): \n",
    "    #targerdir = r\"./숫자 발음 데이터/test/wav\"\n",
    "    #files = os.listdir(targerdir)\n",
    "    y_base, sr_base = librosa.load(base_path)\n",
    "    y_test, sr_test = librosa.load(test_path)\n",
    "    mfcc1 = to_mfcc(y_base,sr_base)\n",
    "    mfcc2 = to_mfcc(y_test,sr_test)\n",
    "    \n",
    "    dist, cost, acc_cost, path = dtw(mfcc1.T, mfcc2.T, dist=lambda x, y: norm(x - y, ord=1))\n",
    "    audio_loss = loss(cost, path)\n",
    "\n",
    "    base_idx = path[0]\n",
    "    test_idx = path[1]\n",
    "    loss_list = []\n",
    "    temp = 0\n",
    "    count = 1\n",
    "    for i in range(len(base_idx)):\n",
    "        x_idx = base_idx[i]\n",
    "        y_idx = test_idx[i]\n",
    "        temp += cost[x_idx][y_idx]\n",
    "        if y_idx == test_idx[i-1]:\n",
    "            count +=1\n",
    "        else:\n",
    "            loss_list.append(temp/count)\n",
    "            temp = 0\n",
    "            count = 1\n",
    "    print(\"In dtw function\")\n",
    "    print(loss_list)\n",
    "    return loss_list"
   ]
  },
  {
   "cell_type": "code",
   "execution_count": 9,
   "metadata": {},
   "outputs": [],
   "source": [
    "def loss(cost, path):\n",
    "    path_length = len(path[0])\n",
    "    cost_sum = 0\n",
    "    for i in range(path_length):\n",
    "        x_idx = path[0][i]\n",
    "        y_idx = path[1][i]\n",
    "        cost_sum += cost[x_idx][y_idx]**2\n",
    "    return cost_sum/path_length"
   ]
  },
  {
   "cell_type": "code",
   "execution_count": 3,
   "metadata": {},
   "outputs": [],
   "source": [
    "def _normalize(S):\n",
    "    min_level_db= -100\n",
    "    return np.clip((S - min_level_db) / -min_level_db, 0, 1)\n",
    "\n",
    "# mfcc 변환 함수\n",
    "# mfcc값을 리턴\n",
    "\n",
    "def to_mfcc(y, sr):\n",
    "    S = librosa.core.stft(y, n_fft=1024, hop_length=512, win_length=1024)\n",
    "    D = np.abs(S)**2\n",
    "    mel_basis = librosa.filters.mel(sr, 1024, n_mels=40)\n",
    "    mel_S = np.dot(mel_basis, D)\n",
    "    log_mel_S = librosa.power_to_db(mel_S)\n",
    "    S = librosa.feature.melspectrogram(y, sr=sr, n_mels = 128)\n",
    "    log_S = librosa.power_to_db(S, ref=np.max)\n",
    "    mfcc = librosa.feature.mfcc(S=log_mel_S, n_mfcc=32)\n",
    "    mfcc = mfcc.astype(np.float32)\n",
    "    mfcc = _normalize(mfcc)\n",
    "    \n",
    "    return mfcc"
   ]
  }
 ],
 "metadata": {
  "kernelspec": {
   "display_name": "Python 3",
   "language": "python",
   "name": "python3"
  },
  "language_info": {
   "codemirror_mode": {
    "name": "ipython",
    "version": 3
   },
   "file_extension": ".py",
   "mimetype": "text/x-python",
   "name": "python",
   "nbconvert_exporter": "python",
   "pygments_lexer": "ipython3",
   "version": "3.7.9"
  }
 },
 "nbformat": 4,
 "nbformat_minor": 4
}
